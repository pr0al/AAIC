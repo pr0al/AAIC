{
 "cells": [
  {
   "cell_type": "markdown",
   "metadata": {},
   "source": [
    "#### Types of Function"
   ]
  },
  {
   "cell_type": "markdown",
   "metadata": {},
   "source": [
    "##### Built in function"
   ]
  },
  {
   "cell_type": "code",
   "execution_count": 2,
   "metadata": {},
   "outputs": [
    {
     "name": "stdout",
     "output_type": "stream",
     "text": [
      "100\n"
     ]
    }
   ],
   "source": [
    "# find the absolute value\n",
    "num=-100\n",
    "print(abs(num))"
   ]
  },
  {
   "cell_type": "markdown",
   "metadata": {},
   "source": [
    "###### 2.all()"
   ]
  },
  {
   "cell_type": "markdown",
   "metadata": {},
   "source": [
    "###### return value of all function\n",
    "True: if all elements in iterable are true\n",
    "\n",
    "False: if any element in iterable is false"
   ]
  },
  {
   "cell_type": "code",
   "execution_count": 3,
   "metadata": {},
   "outputs": [
    {
     "name": "stdout",
     "output_type": "stream",
     "text": [
      "True\n"
     ]
    }
   ],
   "source": [
    "lst=[1,2,3,4]\n",
    "print(all(lst))"
   ]
  },
  {
   "cell_type": "code",
   "execution_count": 9,
   "metadata": {},
   "outputs": [
    {
     "name": "stdout",
     "output_type": "stream",
     "text": [
      "False\n"
     ]
    }
   ],
   "source": [
    "lst=(0,2,3,4) #0 present in the list\n",
    "print(all(lst))"
   ]
  },
  {
   "cell_type": "code",
   "execution_count": 11,
   "metadata": {},
   "outputs": [
    {
     "name": "stdout",
     "output_type": "stream",
     "text": [
      "True\n"
     ]
    }
   ],
   "source": [
    "lst=[] #empty list always true\n",
    "print(all(lst))"
   ]
  },
  {
   "cell_type": "code",
   "execution_count": 12,
   "metadata": {},
   "outputs": [
    {
     "name": "stdout",
     "output_type": "stream",
     "text": [
      "False\n"
     ]
    }
   ],
   "source": [
    "lst=[False,1,2]\n",
    "print(all(lst))"
   ]
  },
  {
   "cell_type": "code",
   "execution_count": 14,
   "metadata": {},
   "outputs": [
    {
     "name": "stdout",
     "output_type": "stream",
     "text": [
      "['__add__', '__class__', '__contains__', '__delattr__', '__dir__', '__doc__', '__eq__', '__format__', '__ge__', '__getattribute__', '__getitem__', '__getnewargs__', '__gt__', '__hash__', '__init__', '__init_subclass__', '__iter__', '__le__', '__len__', '__lt__', '__mul__', '__ne__', '__new__', '__reduce__', '__reduce_ex__', '__repr__', '__rmul__', '__setattr__', '__sizeof__', '__str__', '__subclasshook__', 'count', 'index']\n"
     ]
    }
   ],
   "source": [
    "number=(1,2,3,4)\n",
    "print(dir(number))"
   ]
  },
  {
   "cell_type": "markdown",
   "metadata": {},
   "source": [
    "#### divmod()"
   ]
  },
  {
   "cell_type": "markdown",
   "metadata": {},
   "source": [
    "divmod method takes two number and return tuples consisting of quotient and remainder"
   ]
  },
  {
   "cell_type": "code",
   "execution_count": 15,
   "metadata": {},
   "outputs": [
    {
     "name": "stdout",
     "output_type": "stream",
     "text": [
      "(4, 1)\n"
     ]
    }
   ],
   "source": [
    "print(divmod(9,2))"
   ]
  },
  {
   "cell_type": "code",
   "execution_count": 16,
   "metadata": {
    "scrolled": true
   },
   "outputs": [
    {
     "name": "stdout",
     "output_type": "stream",
     "text": [
      "index 0 has a value 34\n",
      "index 1 has a value 5\n",
      "index 2 has a value 6\n",
      "index 3 has a value 43\n",
      "index 4 has a value 23\n",
      "index 5 has a value 45\n"
     ]
    }
   ],
   "source": [
    "number=[34,5,6,43,23,45]\n",
    "for index,num in enumerate(number):\n",
    "    print(\"index {0} has a value {1}\".format(index,num))"
   ]
  },
  {
   "cell_type": "code",
   "execution_count": 17,
   "metadata": {},
   "outputs": [
    {
     "name": "stdout",
     "output_type": "stream",
     "text": [
      "index 5 has a value 34\n",
      "index 6 has a value 5\n",
      "index 7 has a value 6\n",
      "index 8 has a value 43\n",
      "index 9 has a value 23\n",
      "index 10 has a value 45\n"
     ]
    }
   ],
   "source": [
    "number=[34,5,6,43,23,45]\n",
    "for index,num in enumerate(number,5):\n",
    "    print(\"index {0} has a value {1}\".format(index,num))"
   ]
  },
  {
   "cell_type": "code",
   "execution_count": 25,
   "metadata": {},
   "outputs": [],
   "source": [
    "def find_positive_num(num):\n",
    "    '''\n",
    "    This function return the positive no if the num is positive\n",
    "    '''\n",
    "    if num>0:\n",
    "        return(num)"
   ]
  },
  {
   "cell_type": "code",
   "execution_count": 26,
   "metadata": {},
   "outputs": [
    {
     "name": "stdout",
     "output_type": "stream",
     "text": [
      "[-10, -9, -8, -7, -6, -5, -4, -3, -2, -1, 0, 1, 2, 3, 4, 5, 6, 7, 8, 9]\n",
      "[1, 2, 3, 4, 5, 6, 7, 8, 9]\n"
     ]
    }
   ],
   "source": [
    "number_list=range(-10,10)\n",
    "print(list(number_list))\n",
    "positve_num_lst=list(filter(find_positive_num,number_list))\n",
    "print(positve_num_lst)"
   ]
  },
  {
   "cell_type": "code",
   "execution_count": 33,
   "metadata": {},
   "outputs": [
    {
     "name": "stdout",
     "output_type": "stream",
     "text": [
      "True\n",
      "True\n"
     ]
    }
   ],
   "source": [
    "lst=[1,2,3,4]\n",
    "print(isinstance(lst,list))\n",
    "\n",
    "t=(1,2,3,4)\n",
    "print(isinstance(t,tuple))"
   ]
  },
  {
   "cell_type": "code",
   "execution_count": 34,
   "metadata": {},
   "outputs": [
    {
     "name": "stdout",
     "output_type": "stream",
     "text": [
      "[1, 4, 9, 16]\n"
     ]
    }
   ],
   "source": [
    "numbers=[1,2,3,4]\n",
    "squared=[]\n",
    "for num in numbers:\n",
    "    squared.append(num**2)\n",
    "    \n",
    "print(squared)\n"
   ]
  },
  {
   "cell_type": "code",
   "execution_count": 40,
   "metadata": {},
   "outputs": [
    {
     "name": "stdout",
     "output_type": "stream",
     "text": [
      "[1, 4, 9, 16]\n"
     ]
    }
   ],
   "source": [
    "numbers=[1,2,3,4]\n",
    "\n",
    "def powerofTwo(num):\n",
    "    return num**2\n",
    "\n",
    "#using map function\n",
    "squared=list(map(powerofTwo,numbers))\n",
    "print(squared)"
   ]
  },
  {
   "cell_type": "code",
   "execution_count": 36,
   "metadata": {},
   "outputs": [
    {
     "name": "stdout",
     "output_type": "stream",
     "text": [
      "24\n"
     ]
    }
   ],
   "source": [
    "product=1\n",
    "lst=[1,2,3,4]\n",
    "\n",
    "for num in lst:\n",
    "    product=product*num\n",
    "print(product)"
   ]
  },
  {
   "cell_type": "code",
   "execution_count": 38,
   "metadata": {},
   "outputs": [
    {
     "name": "stdout",
     "output_type": "stream",
     "text": [
      "24\n"
     ]
    }
   ],
   "source": [
    "from functools import reduce\n",
    "\n",
    "def multiply(x,y):\n",
    "    return x*y\n",
    "product=(reduce(multiply,lst))\n",
    "print(product)"
   ]
  },
  {
   "cell_type": "markdown",
   "metadata": {},
   "source": [
    "### User- defined functions"
   ]
  },
  {
   "cell_type": "markdown",
   "metadata": {},
   "source": [
    "Unlike library function, User defined function are defined by ourself to reuse later"
   ]
  },
  {
   "cell_type": "code",
   "execution_count": 43,
   "metadata": {},
   "outputs": [
    {
     "name": "stdout",
     "output_type": "stream",
     "text": [
      "Product of 23, and 30 is 690\n"
     ]
    }
   ],
   "source": [
    "def product_numbers(a,b):\n",
    "8    \"\"\"\n",
    "    This function returns product of two numbers\n",
    "    \"\"\"\n",
    "    product=a*b\n",
    "    return product\n",
    "num1=23\n",
    "num2=30\n",
    "print(\"Product of {0}, and {1} is {2}\".format(num1,num2,product_numbers(num1,num2)))"
   ]
  },
  {
   "cell_type": "code",
   "execution_count": null,
   "metadata": {},
   "outputs": [
    {
     "name": "stdout",
     "output_type": "stream",
     "text": [
      "OPTIONS :\n",
      "1.Addition\n",
      "2.Subtraction\n",
      "3.Multiplication\n",
      "4.Division\n",
      "Enter your choice 1/2/3/4 3\n"
     ]
    }
   ],
   "source": [
    "def add(a,b):\n",
    "    return a+b\n",
    "def multiply(a,b):\n",
    "    return a*b\n",
    "def subtract(a,b):\n",
    "    return a-b\n",
    "def division(a,b):\n",
    "    return a/b\n",
    "\n",
    "print(\"OPTIONS :\")\n",
    "print(\"1.Addition\")\n",
    "print(\"2.Subtraction\")\n",
    "print(\"3.Multiplication\")\n",
    "print(\"4.Division\")\n",
    "\n",
    "choice=int(input(\"Enter your choice 1/2/3/4 \"))\n",
    "num1=float(input(\"Enter first number\"))\n",
    "num2=float(input(\"Enter second number\"))\n",
    "if choice==1:\n",
    "    print(\"The sum of {0} and {1} is {2}\".format(num1,num2,add(num1,num2)))\n",
    "elif choice==2:\n",
    "    print(\"The difference of {0} and {1} is {2}\".format(num1,num2,subtract(num1,num2)))\n",
    "elif choice==3:\n",
    "    print(\"The product of {0} and {1} is {2}\".format(num1,num2,multiply(num1,num2)))\n",
    "elif choice==4:\n",
    "    print(\"The division of {0} and {1} is {2}\".format(num1,num2,division(num1,num2)))\n",
    "else:\n",
    "    print(\"INVALID CHOICE\")\n",
    "    "
   ]
  },
  {
   "cell_type": "code",
   "execution_count": null,
   "metadata": {},
   "outputs": [],
   "source": []
  }
 ],
 "metadata": {
  "kernelspec": {
   "display_name": "Python 3",
   "language": "python",
   "name": "python3"
  },
  "language_info": {
   "codemirror_mode": {
    "name": "ipython",
    "version": 3
   },
   "file_extension": ".py",
   "mimetype": "text/x-python",
   "name": "python",
   "nbconvert_exporter": "python",
   "pygments_lexer": "ipython3",
   "version": "3.7.4"
  }
 },
 "nbformat": 4,
 "nbformat_minor": 2
}
